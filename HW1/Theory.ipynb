{
 "cells": [
  {
   "cell_type": "markdown",
   "metadata": {},
   "source": [
    "## A"
   ]
  },
  {
   "cell_type": "code",
   "execution_count": 88,
   "metadata": {},
   "outputs": [],
   "source": [
    "import pandas as pd\n",
    "from sklearn.model_selection import train_test_split\n",
    "import numpy as np\n",
    "from tqdm import tqdm\n",
    "import matplotlib.pyplot as plt\n",
    "from time import time\n",
    "from sklearn.linear_model import Lasso"
   ]
  },
  {
   "cell_type": "code",
   "execution_count": 89,
   "metadata": {},
   "outputs": [],
   "source": [
    "def MSE(X, weights, bias , Y):\n",
    "    pred = np.dot(X, weights)+bias\n",
    "    error = 0\n",
    "    for i in range(len(Y)):\n",
    "        error += (pred[i]-Y[i])**2\n",
    "    return error/len(Y)/2"
   ]
  },
  {
   "cell_type": "code",
   "execution_count": 90,
   "metadata": {},
   "outputs": [],
   "source": [
    "def MAE(X, weights, bias , Y):\n",
    "    pred = np.dot(X, weights)+bias\n",
    "    error = 0\n",
    "    for i in range(len(Y)):\n",
    "        error += np.abs(pred[i]-Y[i])\n",
    "    return error/len(Y)"
   ]
  },
  {
   "cell_type": "code",
   "execution_count": 91,
   "metadata": {},
   "outputs": [],
   "source": [
    "weights = np.array([[-0.15], [0.6]])\n",
    "bias = -59.5\n",
    "X = np.array([[41,138],[42,153],[37,151],[46,133]])\n",
    "Y = np.array([[37.99],[47.34],[44.38],[28.17]])"
   ]
  },
  {
   "cell_type": "code",
   "execution_count": 92,
   "metadata": {},
   "outputs": [
    {
     "name": "stdout",
     "output_type": "stream",
     "text": [
      "[182.802875]\n"
     ]
    }
   ],
   "source": [
    "print(MSE(X, weights, bias, Y))"
   ]
  },
  {
   "cell_type": "code",
   "execution_count": 93,
   "metadata": {},
   "outputs": [
    {
     "name": "stdout",
     "output_type": "stream",
     "text": [
      "[18.945]\n"
     ]
    }
   ],
   "source": [
    "print(MAE(X, weights, bias, Y))"
   ]
  },
  {
   "cell_type": "markdown",
   "metadata": {},
   "source": [
    "## B"
   ]
  },
  {
   "cell_type": "code",
   "execution_count": 94,
   "metadata": {},
   "outputs": [],
   "source": [
    "learning_rate = 0.1"
   ]
  },
  {
   "cell_type": "code",
   "execution_count": 95,
   "metadata": {},
   "outputs": [
    {
     "data": {
      "text/plain": [
       "array([17.15])"
      ]
     },
     "execution_count": 95,
     "metadata": {},
     "output_type": "execute_result"
    }
   ],
   "source": [
    "np.dot(X[0,:], weights) + bias"
   ]
  },
  {
   "cell_type": "code",
   "execution_count": 96,
   "metadata": {},
   "outputs": [
    {
     "data": {
      "text/plain": [
       "array([ 41, 138])"
      ]
     },
     "execution_count": 96,
     "metadata": {},
     "output_type": "execute_result"
    }
   ],
   "source": [
    "X[0]"
   ]
  },
  {
   "cell_type": "markdown",
   "metadata": {},
   "source": [
    "first update"
   ]
  },
  {
   "cell_type": "code",
   "execution_count": 97,
   "metadata": {},
   "outputs": [
    {
     "data": {
      "text/plain": [
       "array([17.15])"
      ]
     },
     "execution_count": 97,
     "metadata": {},
     "output_type": "execute_result"
    }
   ],
   "source": [
    "prediction = np.dot(X[0], weights) + bias\n",
    "prediction"
   ]
  },
  {
   "cell_type": "code",
   "execution_count": 98,
   "metadata": {},
   "outputs": [
    {
     "name": "stdout",
     "output_type": "stream",
     "text": [
      "delta bias: [-41.68] delta weights: [-1708.88 -5751.84]\n"
     ]
    }
   ],
   "source": [
    "dev_weights =  2 * ((prediction - Y[0]) * X[0]).reshape((-1,1))\n",
    "dev_bias = 2 * (prediction - Y[0])\n",
    "print(f'delta bias: {dev_bias} delta weights: {dev_weights.reshape((-1))}')"
   ]
  },
  {
   "cell_type": "code",
   "execution_count": 99,
   "metadata": {},
   "outputs": [
    {
     "name": "stdout",
     "output_type": "stream",
     "text": [
      "After first update we have bias: [-55.332] weights: [170.738 575.784]\n"
     ]
    }
   ],
   "source": [
    "weights -= learning_rate * dev_weights\n",
    "bias -= learning_rate * dev_bias\n",
    "print(f'After first update we have bias: {bias} weights: {weights.reshape((-1))}')"
   ]
  },
  {
   "cell_type": "markdown",
   "metadata": {},
   "source": [
    "second update"
   ]
  },
  {
   "cell_type": "code",
   "execution_count": 100,
   "metadata": {},
   "outputs": [
    {
     "data": {
      "text/plain": [
       "array([95210.616])"
      ]
     },
     "execution_count": 100,
     "metadata": {},
     "output_type": "execute_result"
    }
   ],
   "source": [
    "prediction = np.dot(X[1], weights) + bias\n",
    "prediction"
   ]
  },
  {
   "cell_type": "code",
   "execution_count": 101,
   "metadata": {},
   "outputs": [
    {
     "name": "stdout",
     "output_type": "stream",
     "text": [
      "delta bias: [190326.552] delta weights: [ 7993715.18400001 29119962.45600002]\n"
     ]
    }
   ],
   "source": [
    "dev_weights =  2 * ((prediction - Y[1]) * X[1]).reshape((-1,1))\n",
    "dev_bias = 2 * (prediction - Y[1])\n",
    "print(f'delta bias: {dev_bias} delta weights: {dev_weights.reshape((-1))}')"
   ]
  },
  {
   "cell_type": "code",
   "execution_count": 102,
   "metadata": {},
   "outputs": [
    {
     "name": "stdout",
     "output_type": "stream",
     "text": [
      "After second update we have bias: [-19087.9872] weights: [ -799200.7804 -2911420.4616]\n"
     ]
    }
   ],
   "source": [
    "weights -= learning_rate * dev_weights\n",
    "bias -= learning_rate * dev_bias\n",
    "print(f'After second update we have bias: {bias} weights: {weights.reshape((-1))}')"
   ]
  },
  {
   "cell_type": "markdown",
   "metadata": {},
   "source": [
    "third update"
   ]
  },
  {
   "cell_type": "code",
   "execution_count": 103,
   "metadata": {},
   "outputs": [
    {
     "data": {
      "text/plain": [
       "array([-4.69214007e+08])"
      ]
     },
     "execution_count": 103,
     "metadata": {},
     "output_type": "execute_result"
    }
   ],
   "source": [
    "prediction = np.dot(X[2], weights) + bias\n",
    "prediction"
   ]
  },
  {
   "cell_type": "code",
   "execution_count": 104,
   "metadata": {},
   "outputs": [
    {
     "name": "stdout",
     "output_type": "stream",
     "text": [
      "delta bias: [-9.38428102e+08] delta weights: [-3.47218398e+10 -1.41702643e+11]\n"
     ]
    }
   ],
   "source": [
    "dev_weights =  2 * ((prediction - Y[2]) * X[2]).reshape((-1,1))\n",
    "dev_bias = 2 * (prediction - Y[2])\n",
    "print(f'delta bias: {dev_bias} delta weights: {dev_weights.reshape((-1))}')"
   ]
  },
  {
   "cell_type": "code",
   "execution_count": 105,
   "metadata": {},
   "outputs": [
    {
     "name": "stdout",
     "output_type": "stream",
     "text": [
      "After third update we have bias: [93823722.20152007] weights: [3.47138478e+09 1.41673529e+10]\n"
     ]
    }
   ],
   "source": [
    "weights -= learning_rate * dev_weights\n",
    "bias -= learning_rate * dev_bias\n",
    "print(f'After third update we have bias: {bias} weights: {weights.reshape((-1))}')"
   ]
  },
  {
   "cell_type": "markdown",
   "metadata": {},
   "source": [
    "forth update"
   ]
  },
  {
   "cell_type": "code",
   "execution_count": 106,
   "metadata": {},
   "outputs": [
    {
     "data": {
      "text/plain": [
       "array([2.04403546e+12])"
      ]
     },
     "execution_count": 106,
     "metadata": {},
     "output_type": "execute_result"
    }
   ],
   "source": [
    "prediction = np.dot(X[3], weights) + bias\n",
    "prediction"
   ]
  },
  {
   "cell_type": "code",
   "execution_count": 107,
   "metadata": {},
   "outputs": [
    {
     "name": "stdout",
     "output_type": "stream",
     "text": [
      "delta bias: [4.08807092e+12] delta weights: [1.88051262e+14 5.43713433e+14]\n"
     ]
    }
   ],
   "source": [
    "dev_weights =  2 * ((prediction - Y[3]) * X[3]).reshape((-1,1))\n",
    "dev_bias = 2 * (prediction - Y[3])\n",
    "print(f'delta bias: {dev_bias} delta weights: {dev_weights.reshape((-1))}')"
   ]
  },
  {
   "cell_type": "code",
   "execution_count": 108,
   "metadata": {},
   "outputs": [
    {
     "name": "stdout",
     "output_type": "stream",
     "text": [
      "After forth update we have bias: [-4.08713269e+11] weights: [-1.88016549e+13 -5.43571759e+13]\n"
     ]
    }
   ],
   "source": [
    "weights -= learning_rate * dev_weights\n",
    "bias -= learning_rate * dev_bias\n",
    "print(f'After forth update we have bias: {bias} weights: {weights.reshape((-1))}')"
   ]
  },
  {
   "cell_type": "markdown",
   "metadata": {},
   "source": [
    "MSE"
   ]
  },
  {
   "cell_type": "code",
   "execution_count": 109,
   "metadata": {},
   "outputs": [
    {
     "name": "stdout",
     "output_type": "stream",
     "text": [
      "[3.70218393e+31]\n"
     ]
    }
   ],
   "source": [
    "print(MSE(X, weights, bias, Y))"
   ]
  },
  {
   "cell_type": "markdown",
   "metadata": {},
   "source": [
    "## C"
   ]
  },
  {
   "cell_type": "code",
   "execution_count": 110,
   "metadata": {},
   "outputs": [],
   "source": [
    "weights = np.array([[-0.15], [0.6]])\n",
    "bias = -59.5"
   ]
  },
  {
   "cell_type": "code",
   "execution_count": 111,
   "metadata": {},
   "outputs": [
    {
     "data": {
      "text/plain": [
       "array([[17.15],\n",
       "       [26.  ],\n",
       "       [25.55],\n",
       "       [13.4 ]])"
      ]
     },
     "execution_count": 111,
     "metadata": {},
     "output_type": "execute_result"
    }
   ],
   "source": [
    "prediction = np.dot(X, weights) + bias\n",
    "prediction"
   ]
  },
  {
   "cell_type": "code",
   "execution_count": 112,
   "metadata": {},
   "outputs": [
    {
     "name": "stdout",
     "output_type": "stream",
     "text": [
      "delta bias: [[-18.945]] delta weights: [ -781.7125 -2737.17  ]\n"
     ]
    }
   ],
   "source": [
    "dev_weights =  (np.sum((prediction - Y) * X, axis=0)/len(X)).reshape(-1,1)\n",
    "dev_bias = (np.sum((prediction - Y), axis=0)/len(X)).reshape(-1,1)\n",
    "print(f'delta bias: {dev_bias} delta weights: {dev_weights.reshape((-1))}')"
   ]
  },
  {
   "cell_type": "code",
   "execution_count": 113,
   "metadata": {},
   "outputs": [
    {
     "name": "stdout",
     "output_type": "stream",
     "text": [
      "After one update in GD we have bias: [[-57.6055]] weights: [ 78.02125 274.317  ]\n"
     ]
    }
   ],
   "source": [
    "weights -= learning_rate * dev_weights\n",
    "bias -= learning_rate * dev_bias\n",
    "print(f'After one update in GD we have bias: {bias} weights: {weights.reshape((-1))}')"
   ]
  },
  {
   "cell_type": "markdown",
   "metadata": {},
   "source": [
    "MSE"
   ]
  },
  {
   "cell_type": "code",
   "execution_count": 114,
   "metadata": {},
   "outputs": [
    {
     "name": "stdout",
     "output_type": "stream",
     "text": [
      "[9.08587593e+08]\n"
     ]
    }
   ],
   "source": [
    "print(MSE(X, weights, bias, Y))"
   ]
  }
 ],
 "metadata": {
  "kernelspec": {
   "display_name": "anaconda-env",
   "language": "python",
   "name": "python3"
  },
  "language_info": {
   "codemirror_mode": {
    "name": "ipython",
    "version": 3
   },
   "file_extension": ".py",
   "mimetype": "text/x-python",
   "name": "python",
   "nbconvert_exporter": "python",
   "pygments_lexer": "ipython3",
   "version": "3.11.5"
  }
 },
 "nbformat": 4,
 "nbformat_minor": 2
}
